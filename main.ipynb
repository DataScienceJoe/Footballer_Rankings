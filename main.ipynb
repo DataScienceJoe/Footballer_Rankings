{
 "cells": [
  {
   "cell_type": "code",
   "execution_count": 1,
   "id": "2e9091fc",
   "metadata": {
    "scrolled": false
   },
   "outputs": [
    {
     "name": "stderr",
     "output_type": "stream",
     "text": [
      "C:\\ProgramData\\Anaconda3\\lib\\site-packages\\pandas\\core\\frame.py:3641: SettingWithCopyWarning: \n",
      "A value is trying to be set on a copy of a slice from a DataFrame.\n",
      "Try using .loc[row_indexer,col_indexer] = value instead\n",
      "\n",
      "See the caveats in the documentation: https://pandas.pydata.org/pandas-docs/stable/user_guide/indexing.html#returning-a-view-versus-a-copy\n",
      "  self[k1] = value[k2]\n"
     ]
    }
   ],
   "source": [
    "import pandas as pd\n",
    "import numpy as np\n",
    "\n",
    "\n",
    "raw_data = pd.read_csv(\"RawFootballerData.csv\")\n",
    "years = ['2021', '2020', '2019', '2018', '2017',\n",
    "         '2016', '2015', '2014', '2013', '2012']\n",
    "avg_ranges = ['2019-21', '2018-20', '2017-19', '2016-18',\n",
    "              '2015-17', '2014-16', '2013-15', '2012-14']\n",
    "\n",
    "# Make new dataframe to work with\n",
    "data = raw_data[['Name']]\n",
    "data[years] = raw_data[years]\n",
    "\n",
    "# remove = from end of some values\n",
    "for index, row in data.iterrows():\n",
    "    for year in years:\n",
    "        if type(row[year]) == str and row[year][-1] == '=':\n",
    "            data.at[index, year] = row[year][:-1]\n",
    "\n",
    "# Calculate moving averages\n",
    "for index, row in data.iterrows():\n",
    "    moving_avgs = []\n",
    "    for i in range(len(years)-2):\n",
    "        apt_range = years[i:i+3]\n",
    "        apt_row = row[apt_range]\n",
    "        if apt_row.isnull().values.any() == False:\n",
    "            moving_avg = np.mean(apt_row.values.astype(int))\n",
    "            data.at[index, avg_ranges[i]] = moving_avg\n",
    "            moving_avgs.append(moving_avg)\n",
    "    if moving_avgs:\n",
    "        data.at[index, ['Peak']] = min(moving_avgs)\n",
    "\n",
    "# Remove entries who don't make the list three years in a row\n",
    "null_avgs = data[avg_ranges].isnull().sum(axis=1).values\n",
    "calculated_avgs = max(null_avgs) - null_avgs\n",
    "final = data[calculated_avgs > 0]\n",
    "\n",
    "final.to_csv(\"final.csv\")\n",
    "# Some final alterations  are then made in Excel for the final product.\n"
   ]
  }
 ],
 "metadata": {
  "kernelspec": {
   "display_name": "Python 3 (ipykernel)",
   "language": "python",
   "name": "python3"
  },
  "language_info": {
   "codemirror_mode": {
    "name": "ipython",
    "version": 3
   },
   "file_extension": ".py",
   "mimetype": "text/x-python",
   "name": "python",
   "nbconvert_exporter": "python",
   "pygments_lexer": "ipython3",
   "version": "3.9.7"
  }
 },
 "nbformat": 4,
 "nbformat_minor": 5
}
